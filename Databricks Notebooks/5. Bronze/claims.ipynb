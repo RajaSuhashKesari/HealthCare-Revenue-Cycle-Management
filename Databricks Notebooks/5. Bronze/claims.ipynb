{
 "cells": [
  {
   "cell_type": "code",
   "execution_count": 0,
   "metadata": {
    "application/vnd.databricks.v1+cell": {
     "cellMetadata": {
      "byteLimit": 2048000,
      "rowLimit": 10000
     },
     "inputWidgets": {},
     "nuid": "9680b739-203d-4869-b196-1c0ac7e2b97d",
     "showTitle": false,
     "tableResultSettingsMap": {},
     "title": ""
    }
   },
   "outputs": [],
   "source": [
    "from pyspark.sql.functions import when, col\n",
    "\n",
    "claims_df = spark.read.csv(\"/mnt/landing/claims/*.csv\", header=True)\n",
    "\n",
    "# Use `_metadata.file_path` instead of `input_file_name()`\n",
    "claims_df = claims_df.withColumn(\n",
    "    \"datasource\",\n",
    "    when(col(\"_metadata.file_path\").contains(\"hospital-1\"), \"hospital_1\")\n",
    "    .when(col(\"_metadata.file_path\").contains(\"hospital-2\"), \"hospital_2\")\n",
    "    .otherwise(None)\n",
    ")\n",
    "\n",
    "display(claims_df)\n"
   ]
  },
  {
   "cell_type": "code",
   "execution_count": 0,
   "metadata": {
    "application/vnd.databricks.v1+cell": {
     "cellMetadata": {
      "byteLimit": 2048000,
      "rowLimit": 10000
     },
     "inputWidgets": {},
     "nuid": "64655355-fce2-431d-b632-8fe51dd54000",
     "showTitle": false,
     "tableResultSettingsMap": {},
     "title": ""
    }
   },
   "outputs": [],
   "source": [
    "claims_df.write.format(\"parquet\").mode(\"overwrite\").save(\"/mnt/bronze/claims/\")"
   ]
  }
 ],
 "metadata": {
  "application/vnd.databricks.v1+notebook": {
   "computePreferences": null,
   "dashboards": [],
   "environmentMetadata": {
    "base_environment": "",
    "environment_version": "2"
   },
   "inputWidgetPreferences": null,
   "language": "python",
   "notebookMetadata": {
    "pythonIndentUnit": 4
   },
   "notebookName": "claims",
   "widgets": {}
  },
  "language_info": {
   "name": "python"
  }
 },
 "nbformat": 4,
 "nbformat_minor": 0
}
