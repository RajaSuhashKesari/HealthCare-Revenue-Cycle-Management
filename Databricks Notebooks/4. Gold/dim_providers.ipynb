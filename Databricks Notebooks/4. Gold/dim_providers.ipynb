{
 "cells": [
  {
   "cell_type": "code",
   "execution_count": 0,
   "metadata": {
    "application/vnd.databricks.v1+cell": {
     "cellMetadata": {},
     "inputWidgets": {},
     "nuid": "6ee1fe07-e457-4629-923a-3bc5374520b9",
     "showTitle": false,
     "tableResultSettingsMap": {},
     "title": ""
    }
   },
   "outputs": [],
   "source": [
    "%sql\n",
    "CREATE TABLE IF NOT EXISTS healthcarerevenuecyclemanagement_databricks.gold.dim_providers(\n",
    "  provider_id STRING,\n",
    "  first_name STRING,\n",
    "  last_name STRING,\n",
    "  specialization STRING,\n",
    "  dept_id STRING,\n",
    "  npi LONG,\n",
    "  datasource STRING\n",
    "  );"
   ]
  },
  {
   "cell_type": "code",
   "execution_count": 0,
   "metadata": {
    "application/vnd.databricks.v1+cell": {
     "cellMetadata": {},
     "inputWidgets": {},
     "nuid": "4e9c96ad-59db-4e0a-a90b-c9a8964b242c",
     "showTitle": false,
     "tableResultSettingsMap": {},
     "title": ""
    }
   },
   "outputs": [],
   "source": [
    "%sql\n",
    "TRUNCATE TABLE healthcarerevenuecyclemanagement_databricks.gold.dim_providers;"
   ]
  },
  {
   "cell_type": "code",
   "execution_count": 0,
   "metadata": {
    "application/vnd.databricks.v1+cell": {
     "cellMetadata": {},
     "inputWidgets": {},
     "nuid": "89f34a57-d37f-46b5-9c16-efaf50e568dc",
     "showTitle": false,
     "tableResultSettingsMap": {},
     "title": ""
    }
   },
   "outputs": [],
   "source": [
    "%sql\n",
    "INSERT INTO healthcarerevenuecyclemanagement_databricks.gold.dim_providers\n",
    "SELECT \n",
    "  ProviderID,\n",
    "  FirstName,\n",
    "  LastName,\n",
    "  Specialization,\n",
    "  DeptID,\n",
    "  NPI,\n",
    "  datasource\n",
    "FROM healthcarerevenuecyclemanagement_databricks.silver.providers\n",
    "WHERE is_quarantied = FALSE;"
   ]
  }
 ],
 "metadata": {
  "application/vnd.databricks.v1+notebook": {
   "computePreferences": null,
   "dashboards": [],
   "environmentMetadata": {
    "base_environment": "",
    "environment_version": "2"
   },
   "inputWidgetPreferences": null,
   "language": "python",
   "notebookMetadata": {
    "pythonIndentUnit": 4
   },
   "notebookName": "dim_providers",
   "widgets": {}
  },
  "language_info": {
   "name": "python"
  }
 },
 "nbformat": 4,
 "nbformat_minor": 0
}
