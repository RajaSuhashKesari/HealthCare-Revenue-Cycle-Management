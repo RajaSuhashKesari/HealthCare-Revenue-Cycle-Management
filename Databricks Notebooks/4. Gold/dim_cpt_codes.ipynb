{
 "cells": [
  {
   "cell_type": "code",
   "execution_count": 0,
   "metadata": {
    "application/vnd.databricks.v1+cell": {
     "cellMetadata": {
      "byteLimit": 2048000,
      "implicitDf": true,
      "rowLimit": 10000
     },
     "inputWidgets": {},
     "nuid": "90daca34-aea1-4c8f-92d7-5e33ef32a211",
     "showTitle": false,
     "tableResultSettingsMap": {},
     "title": ""
    }
   },
   "outputs": [],
   "source": [
    "%sql\n",
    "CREATE TABLE IF NOT EXISTS healthcarerevenuecyclemanagement_databricks.gold.dim_cpt_codes(\n",
    "  cpt_codes STRING,\n",
    "  procedure_code_category STRING,\n",
    "  procedure_code_descriptions STRING,\n",
    "  code_status STRING,\n",
    "  refreshed_at TIMESTAMP\n",
    ");"
   ]
  },
  {
   "cell_type": "code",
   "execution_count": 0,
   "metadata": {
    "application/vnd.databricks.v1+cell": {
     "cellMetadata": {
      "byteLimit": 2048000,
      "implicitDf": true,
      "rowLimit": 10000
     },
     "inputWidgets": {},
     "nuid": "1b7a9cb6-f6ab-4a32-b2d8-226d6ff12290",
     "showTitle": false,
     "tableResultSettingsMap": {},
     "title": ""
    }
   },
   "outputs": [],
   "source": [
    "%sql\n",
    "TRUNCATE TABLE healthcarerevenuecyclemanagement_databricks.gold.dim_cpt_codes;"
   ]
  },
  {
   "cell_type": "code",
   "execution_count": 0,
   "metadata": {
    "application/vnd.databricks.v1+cell": {
     "cellMetadata": {
      "byteLimit": 2048000,
      "implicitDf": true,
      "rowLimit": 10000
     },
     "inputWidgets": {},
     "nuid": "eec744d0-fb76-426d-978b-54e3299c33db",
     "showTitle": false,
     "tableResultSettingsMap": {},
     "title": ""
    }
   },
   "outputs": [],
   "source": [
    "%sql\n",
    "INSERT INTO healthcarerevenuecyclemanagement_databricks.gold.dim_cpt_codes\n",
    "SELECT \n",
    "  cpt_codes,\n",
    "  procedure_code_category,\n",
    "  procedure_code_descriptions,\n",
    "  code_status,\n",
    "  current_timestamp\n",
    "FROM healthcarerevenuecyclemanagement_databricks.silver.cpt_codes\n",
    "WHERE is_quarantined = FALSE AND is_current = TRUE ;"
   ]
  }
 ],
 "metadata": {
  "application/vnd.databricks.v1+notebook": {
   "computePreferences": null,
   "dashboards": [],
   "environmentMetadata": {
    "base_environment": "",
    "environment_version": "2"
   },
   "inputWidgetPreferences": null,
   "language": "python",
   "notebookMetadata": {
    "mostRecentlyExecutedCommandWithImplicitDF": {
     "commandId": 1979091524646661,
     "dataframes": [
      "_sqldf"
     ]
    },
    "pythonIndentUnit": 4
   },
   "notebookName": "dim_cpt_codes",
   "widgets": {}
  },
  "language_info": {
   "name": "python"
  }
 },
 "nbformat": 4,
 "nbformat_minor": 0
}
