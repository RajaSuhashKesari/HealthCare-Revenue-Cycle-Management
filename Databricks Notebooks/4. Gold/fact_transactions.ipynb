{
 "cells": [
  {
   "cell_type": "code",
   "execution_count": 0,
   "metadata": {
    "application/vnd.databricks.v1+cell": {
     "cellMetadata": {
      "byteLimit": 2048000,
      "implicitDf": true,
      "rowLimit": 10000
     },
     "inputWidgets": {},
     "nuid": "15ff5f45-89fc-440f-b4c3-4e3eff019d43",
     "showTitle": false,
     "tableResultSettingsMap": {},
     "title": ""
    }
   },
   "outputs": [],
   "source": [
    "%sql\n",
    "CREATE TABLE IF NOT EXISTS healthcarerevenuecyclemanagement_databricks.gold.dim_transactions(\n",
    "transaction_id STRING,\n",
    "src_transaction_id STRING,\n",
    "encounter_id STRING,\n",
    "fk_patient_id STRING,\n",
    "fk_provider_id STRING,\n",
    "fk_dept_id STRING,\n",
    "icd_code STRING,\n",
    "procedure_code STRING,\n",
    "visit_type STRING,\n",
    "service_date DATE,\n",
    "paid_date DATE,\n",
    "amount DOUBLE,\n",
    "paid_amount DOUBLE,\n",
    "amount_type STRING,\n",
    "claim_id STRING,\n",
    "datasource STRING,\n",
    "refreshed_at TIMESTAMP\n",
    ");"
   ]
  },
  {
   "cell_type": "code",
   "execution_count": 0,
   "metadata": {
    "application/vnd.databricks.v1+cell": {
     "cellMetadata": {
      "byteLimit": 2048000,
      "implicitDf": true,
      "rowLimit": 10000
     },
     "inputWidgets": {},
     "nuid": "a5357627-ff9d-4212-b8d5-cfca82312731",
     "showTitle": false,
     "tableResultSettingsMap": {},
     "title": ""
    }
   },
   "outputs": [],
   "source": [
    "%sql\n",
    "TRUNCATE TABLE healthcarerevenuecyclemanagement_databricks.gold.dim_transactions;"
   ]
  },
  {
   "cell_type": "code",
   "execution_count": 0,
   "metadata": {
    "application/vnd.databricks.v1+cell": {
     "cellMetadata": {
      "byteLimit": 2048000,
      "implicitDf": true,
      "rowLimit": 10000
     },
     "inputWidgets": {},
     "nuid": "ca52de35-e464-4dc7-b5ed-3bd8b37760ef",
     "showTitle": false,
     "tableResultSettingsMap": {},
     "title": ""
    }
   },
   "outputs": [],
   "source": [
    "%sql\n",
    "INSERT INTO healthcarerevenuecyclemanagement_databricks.gold.dim_transactions\n",
    "SELECT\n",
    "t.TransactionID,\n",
    "t.SRC_TransactionID,\n",
    "t.EncounterID,\n",
    "CONCAT(t.ProviderID,'-',t.datasource) as fk_patient_id,\n",
    "concat(LEFT(t.datasource,1) || RIGHT(t.datasource,1),'-',t.ProviderID) AS fk_provider_id,\n",
    "concat(t.DeptID,'-',t.datasource ) as fk_dept_id,\n",
    "t.ICDCode,\n",
    "t.ProcedureCode,\n",
    "t.VisitType,\n",
    "t.ServiceDate, \n",
    "t.PaidDate,\n",
    "t.Amount Charge_Amt, \n",
    "t.PaidAmount Paid_Amt, \n",
    "t.AmountType,\n",
    "t.ClaimID,\n",
    "t.datasource,\n",
    "current_timestamp()\n",
    "FROM healthcarerevenuecyclemanagement_databricks.silver.transactions AS t\n",
    "WHERE t.is_quarantined = FALSE AND t.is_current= TRUE;"
   ]
  },
  {
   "cell_type": "code",
   "execution_count": 0,
   "metadata": {
    "application/vnd.databricks.v1+cell": {
     "cellMetadata": {
      "byteLimit": 2048000,
      "implicitDf": true,
      "rowLimit": 10000
     },
     "inputWidgets": {},
     "nuid": "050e4882-53d9-465f-a3fb-730583018ebc",
     "showTitle": false,
     "tableResultSettingsMap": {},
     "title": ""
    }
   },
   "outputs": [],
   "source": [
    "%sql\n",
    "DESCRIBE healthcarerevenuecyclemanagement_databricks.silver.transactions;"
   ]
  }
 ],
 "metadata": {
  "application/vnd.databricks.v1+notebook": {
   "computePreferences": null,
   "dashboards": [],
   "environmentMetadata": {
    "base_environment": "",
    "environment_version": "2"
   },
   "inputWidgetPreferences": null,
   "language": "python",
   "notebookMetadata": {
    "mostRecentlyExecutedCommandWithImplicitDF": {
     "commandId": 3742082531227812,
     "dataframes": [
      "_sqldf"
     ]
    },
    "pythonIndentUnit": 4
   },
   "notebookName": "fact_transactions",
   "widgets": {}
  },
  "language_info": {
   "name": "python"
  }
 },
 "nbformat": 4,
 "nbformat_minor": 0
}
