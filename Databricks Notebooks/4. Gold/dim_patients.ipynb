{
 "cells": [
  {
   "cell_type": "code",
   "execution_count": 0,
   "metadata": {
    "application/vnd.databricks.v1+cell": {
     "cellMetadata": {
      "byteLimit": 2048000,
      "implicitDf": true,
      "rowLimit": 10000
     },
     "inputWidgets": {},
     "nuid": "dd1a2853-0ea7-4e65-bcdd-a1e9aff56083",
     "showTitle": false,
     "tableResultSettingsMap": {},
     "title": ""
    }
   },
   "outputs": [],
   "source": [
    "%sql\n",
    "CREATE SCHEMA IF NOT EXISTS healthcarerevenuecyclemanagement_databricks.gold;"
   ]
  },
  {
   "cell_type": "code",
   "execution_count": 0,
   "metadata": {
    "application/vnd.databricks.v1+cell": {
     "cellMetadata": {
      "byteLimit": 2048000,
      "implicitDf": true,
      "rowLimit": 10000
     },
     "inputWidgets": {},
     "nuid": "b0ae67f6-b065-4138-80b8-77b43836438f",
     "showTitle": false,
     "tableResultSettingsMap": {},
     "title": ""
    }
   },
   "outputs": [],
   "source": [
    "%sql\n",
    "CREATE TABLE IF NOT EXISTS healthcarerevenuecyclemanagement_databricks.gold.dim_patients (\n",
    "  patient_key STRING,\n",
    "  src_patient_id STRING,\n",
    "  first_name STRING,\n",
    "  last_name STRING,\n",
    "  middle_name STRING,\n",
    "  ssn STRING,\n",
    "  phone_number STRING,\n",
    "  gender STRING,\n",
    "  dob DATE,\n",
    "  address STRING,\n",
    "  datasource STRING\n",
    ");"
   ]
  },
  {
   "cell_type": "code",
   "execution_count": 0,
   "metadata": {
    "application/vnd.databricks.v1+cell": {
     "cellMetadata": {
      "byteLimit": 2048000,
      "implicitDf": true,
      "rowLimit": 10000
     },
     "inputWidgets": {},
     "nuid": "9e71e9d1-9f6f-4af8-a2ed-36d315eee072",
     "showTitle": false,
     "tableResultSettingsMap": {},
     "title": ""
    }
   },
   "outputs": [],
   "source": [
    "%sql\n",
    "TRUNCATE TABLE healthcarerevenuecyclemanagement_databricks.gold.dim_patients;"
   ]
  },
  {
   "cell_type": "code",
   "execution_count": 0,
   "metadata": {
    "application/vnd.databricks.v1+cell": {
     "cellMetadata": {
      "byteLimit": 2048000,
      "implicitDf": true,
      "rowLimit": 10000
     },
     "inputWidgets": {},
     "nuid": "080f1c47-063e-4128-ae9c-de2311190db0",
     "showTitle": false,
     "tableResultSettingsMap": {},
     "title": ""
    }
   },
   "outputs": [],
   "source": [
    "%sql\n",
    "INSERT INTO healthcarerevenuecyclemanagement_databricks.gold.dim_patients\n",
    "SELECT\n",
    "Patient_Key,\n",
    "SRC_PatientID,\n",
    "FirstName,\n",
    "LastName,\n",
    "MiddleName,\n",
    "SSN,\n",
    "PhoneNumber,\n",
    "Gender,\n",
    "DOB,\n",
    "Address,\n",
    "datasource\n",
    "FROM healthcarerevenuecyclemanagement_databricks.silver.patients\n",
    "WHERE is_current = TRUE AND is_quarantined = FALSE;"
   ]
  }
 ],
 "metadata": {
  "application/vnd.databricks.v1+notebook": {
   "computePreferences": null,
   "dashboards": [],
   "environmentMetadata": {
    "base_environment": "",
    "environment_version": "2"
   },
   "inputWidgetPreferences": null,
   "language": "python",
   "notebookMetadata": {
    "mostRecentlyExecutedCommandWithImplicitDF": {
     "commandId": 484276152732913,
     "dataframes": [
      "_sqldf"
     ]
    },
    "pythonIndentUnit": 4
   },
   "notebookName": "dim_patients",
   "widgets": {}
  },
  "language_info": {
   "name": "python"
  }
 },
 "nbformat": 4,
 "nbformat_minor": 0
}
