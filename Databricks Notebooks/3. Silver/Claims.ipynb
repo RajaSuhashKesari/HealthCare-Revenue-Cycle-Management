{
 "cells": [
  {
   "cell_type": "code",
   "execution_count": 0,
   "metadata": {
    "application/vnd.databricks.v1+cell": {
     "cellMetadata": {
      "byteLimit": 2048000,
      "rowLimit": 10000
     },
     "inputWidgets": {},
     "nuid": "9786d6e1-6de9-4f4c-9d1d-e89489954b93",
     "showTitle": false,
     "tableResultSettingsMap": {},
     "title": ""
    }
   },
   "outputs": [],
   "source": [
    "df_claims=spark.read.parquet('mnt/bronze/claims/*.parquet')\n",
    "display(df_claims)\n",
    "df_claims.createOrReplaceTempView('claims_data')"
   ]
  },
  {
   "cell_type": "code",
   "execution_count": 0,
   "metadata": {
    "application/vnd.databricks.v1+cell": {
     "cellMetadata": {
      "byteLimit": 2048000,
      "implicitDf": true,
      "rowLimit": 10000
     },
     "inputWidgets": {},
     "nuid": "388c2354-c354-4ad5-940b-1380a183b174",
     "showTitle": false,
     "tableResultSettingsMap": {},
     "title": ""
    }
   },
   "outputs": [],
   "source": [
    "%sql\n",
    "DESCRIBE claims_data"
   ]
  },
  {
   "cell_type": "code",
   "execution_count": 0,
   "metadata": {
    "application/vnd.databricks.v1+cell": {
     "cellMetadata": {
      "byteLimit": 2048000,
      "implicitDf": true,
      "rowLimit": 10000
     },
     "inputWidgets": {},
     "nuid": "975e6f8e-90d9-4600-b0cb-6459616718f0",
     "showTitle": false,
     "tableResultSettingsMap": {},
     "title": ""
    }
   },
   "outputs": [],
   "source": [
    "%sql\n",
    "CREATE OR REPLACE TEMP VIEW quality_checks\n",
    "AS SELECT \n",
    "concat(ClaimID,'-',datasource) as ClaimID,\n",
    "ClaimID AS SRC_ClaimID,\n",
    "TransactionID,\n",
    "PatientID,\n",
    "EncounterID,\n",
    "ProviderID,\n",
    "DeptID,\n",
    "ServiceDate,\n",
    "ClaimDate,\n",
    "PayorID,\n",
    "ClaimAmount,\n",
    "PaidAmount,\n",
    "ClaimStatus,\n",
    "PayorType,\n",
    "Deductible,\n",
    "Coinsurance,\n",
    "Copay,\n",
    "InsertDate AS SRC_InsertDate,\n",
    "ModifiedDate AS SRC_ModifiedDate,\n",
    "datasource,\n",
    "CASE \n",
    "    WHEN ClaimID IS NULL OR TransactionID IS NULL OR PatientID IS NULL OR ServiceDate IS NULL THEN TRUE\n",
    "    ELSE FALSE\n",
    "    END AS is_quarantined  \n",
    "FROM claims_data;"
   ]
  },
  {
   "cell_type": "code",
   "execution_count": 0,
   "metadata": {
    "application/vnd.databricks.v1+cell": {
     "cellMetadata": {
      "byteLimit": 2048000,
      "implicitDf": true,
      "rowLimit": 10000
     },
     "inputWidgets": {},
     "nuid": "e9a0745b-2adf-4ec3-9418-9f0f9b2fbc64",
     "showTitle": false,
     "tableResultSettingsMap": {},
     "title": ""
    }
   },
   "outputs": [],
   "source": [
    "%sql\n",
    "CREATE TABLE IF NOT EXISTS healthcarerevenuecyclemanagement_databricks.silver.claims (\n",
    "ClaimID STRING,\n",
    "SRC_ClaimID STRING,\n",
    "TransactionID STRING,\n",
    "PatientID STRING,\n",
    "EncounterID STRING,\n",
    "ProviderID STRING,\n",
    "DeptID STRING,\n",
    "ServiceDate DATE,\n",
    "ClaimDate DATE,\n",
    "PayorID STRING,\n",
    "ClaimAmount DECIMAL(10,4),\n",
    "PaidAmount DECIMAL(10,4),\n",
    "ClaimStatus STRING,\n",
    "PayorType STRING,\n",
    "Deductible DECIMAL(10,4),\n",
    "Coinsurance DECIMAL(10,4),\n",
    "Copay DECIMAL(10,4),\n",
    "SRC_InsertDate DATE,\n",
    "SRC_ModifiedDate DATE,\n",
    "datasource STRING,\n",
    "is_quarantined BOOLEAN,\n",
    "audit_insertdate TIMESTAMP,\n",
    "audit_modifieddate TIMESTAMP,\n",
    "is_current BOOLEAN\n",
    ")"
   ]
  },
  {
   "cell_type": "code",
   "execution_count": 0,
   "metadata": {
    "application/vnd.databricks.v1+cell": {
     "cellMetadata": {
      "byteLimit": 2048000,
      "implicitDf": true,
      "rowLimit": 10000
     },
     "inputWidgets": {},
     "nuid": "5aafe64b-21bd-4b53-992c-1a56df1d2bac",
     "showTitle": false,
     "tableResultSettingsMap": {},
     "title": ""
    }
   },
   "outputs": [],
   "source": [
    "healthcarerevenuecyclemanagement_databricks.silver.claims%sql\n",
    "MERGE INTO healthcarerevenuecyclemanagement_databricks.silver.claims AS target\n",
    "USING quality_checks AS source\n",
    "ON target.ClaimID = source.ClaimID AND target.is_current = true\n",
    "WHEN MATCHED AND\n",
    "(\n",
    "target.SRC_ClaimID <> source.SRC_ClaimID OR\n",
    "target.TransactionID <> source.TransactionID OR\n",
    "target.PatientID <> source.PatientID OR\n",
    "target.EncounterID <> source.EncounterID OR\n",
    "target.ProviderID <> source.ProviderID OR\n",
    "target.DeptID <> source.DeptID OR\n",
    "target.ServiceDate <> source.ServiceDate OR\n",
    "target.ClaimDate <> source.ClaimDate OR\n",
    "target.PayorID <> source.PayorID OR\n",
    "target.ClaimAmount <> source.ClaimAmount OR\n",
    "target.PaidAmount <> source.PaidAmount OR\n",
    "target.ClaimStatus <> source.ClaimStatus OR\n",
    "target.PayorType <> source.PayorType OR\n",
    "target.Deductible <> source.Deductible OR\n",
    "target.Coinsurance <> source.Coinsurance OR\n",
    "target.Copay <> source.Copay OR\n",
    "target.SRC_InsertDate <> source.SRC_InsertDate OR\n",
    "target.SRC_ModifiedDate <> source.SRC_ModifiedDate OR\n",
    "target.datasource <> source.datasource OR\n",
    "target.is_quarantined <> source.is_quarantined)\n",
    "THEN UPDATE SET target.is_current = false,\n",
    "                target.audit_modifieddate = current_timestamp()\n",
    "WHEN NOT MATCHED THEN INSERT (\n",
    "ClaimID,\n",
    "SRC_ClaimID,\n",
    "TransactionID,\n",
    "PatientID,\n",
    "EncounterID,\n",
    "ProviderID,\n",
    "DeptID,\n",
    "ServiceDate,\n",
    "ClaimDate,\n",
    "PayorID,\n",
    "ClaimAmount,\n",
    "PaidAmount,\n",
    "ClaimStatus,\n",
    "PayorType,\n",
    "Deductible,\n",
    "Coinsurance,\n",
    "Copay,\n",
    "SRC_InsertDate,\n",
    "SRC_ModifiedDate,\n",
    "datasource,\n",
    "is_quarantined,\n",
    "audit_insertdate,\n",
    "audit_modifieddate,\n",
    "is_current\n",
    ") VALUES(\n",
    "source.ClaimID,\n",
    "source.SRC_ClaimID,\n",
    "source.TransactionID,\n",
    "source.PatientID,\n",
    "source.EncounterID,\n",
    "source.ProviderID,\n",
    "source.DeptID,\n",
    "CAST(source.ServiceDate AS DATE),\n",
    "CAST(source.ClaimDate AS DATE),\n",
    "source.PayorID,\n",
    "CAST(source.ClaimAmount AS DECIMAL(10,4)),\n",
    "CAST(source.PaidAmount AS DECIMAL(10,4)),\n",
    "source.ClaimStatus,\n",
    "source.PayorType,\n",
    "CAST(source.Deductible AS DECIMAL(10,4)),\n",
    "CAST(source.Coinsurance AS DECIMAL(10,4)),\n",
    "CAST(source.Copay AS DECIMAL(10,4)),\n",
    "source.SRC_InsertDate,\n",
    "source.SRC_ModifiedDate,\n",
    "source.datasource,\n",
    "source.is_quarantined,\n",
    "current_timestamp(),\n",
    "current_timestamp(),\n",
    "true\n",
    ")"
   ]
  }
 ],
 "metadata": {
  "application/vnd.databricks.v1+notebook": {
   "computePreferences": null,
   "dashboards": [],
   "environmentMetadata": {
    "base_environment": "",
    "environment_version": "2"
   },
   "inputWidgetPreferences": null,
   "language": "python",
   "notebookMetadata": {
    "mostRecentlyExecutedCommandWithImplicitDF": {
     "commandId": 4578092069131585,
     "dataframes": [
      "_sqldf"
     ]
    },
    "pythonIndentUnit": 4
   },
   "notebookName": "Claims",
   "widgets": {}
  },
  "language_info": {
   "name": "python"
  }
 },
 "nbformat": 4,
 "nbformat_minor": 0
}
