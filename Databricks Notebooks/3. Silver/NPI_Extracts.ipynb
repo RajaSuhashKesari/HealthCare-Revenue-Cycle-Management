{
 "cells": [
  {
   "cell_type": "code",
   "execution_count": 0,
   "metadata": {
    "application/vnd.databricks.v1+cell": {
     "cellMetadata": {
      "byteLimit": 2048000,
      "rowLimit": 10000
     },
     "inputWidgets": {},
     "nuid": "d6890a51-3870-490b-ab12-9ea49b07c683",
     "showTitle": false,
     "tableResultSettingsMap": {},
     "title": ""
    }
   },
   "outputs": [],
   "source": [
    "df_npis=spark.read.parquet('/mnt/bronze/npi_extract/*.parquet')\n",
    "\n",
    "display(df_npis)\n",
    "\n",
    "df_npis.createOrReplaceTempView('npis')"
   ]
  },
  {
   "cell_type": "code",
   "execution_count": 0,
   "metadata": {
    "application/vnd.databricks.v1+cell": {
     "cellMetadata": {
      "byteLimit": 2048000,
      "implicitDf": true,
      "rowLimit": 10000
     },
     "inputWidgets": {},
     "nuid": "75b468ec-f600-4346-aedf-149d222a8d05",
     "showTitle": false,
     "tableResultSettingsMap": {},
     "title": ""
    }
   },
   "outputs": [],
   "source": [
    "%sql\n",
    "CREATE TABLE IF NOT EXISTS healthcarerevenuecyclemanagement_databricks.silver.npi_extracts(\n",
    "  npi_id STRING,\n",
    "  first_name STRING,\n",
    "  last_name STRING,\n",
    "  last_updated DATE,\n",
    "  organisation_name STRING,\n",
    "  position STRING,\n",
    "  refreshed_at DATE,\n",
    "  inserted_date DATE,\n",
    "  updated_date DATE,\n",
    "  is_current BOOLEAN\n",
    ") USING DELTA;"
   ]
  },
  {
   "cell_type": "code",
   "execution_count": 0,
   "metadata": {
    "application/vnd.databricks.v1+cell": {
     "cellMetadata": {
      "byteLimit": 2048000,
      "implicitDf": true,
      "rowLimit": 10000
     },
     "inputWidgets": {},
     "nuid": "ae70e9c7-f597-44a9-bc27-d9bbaf74af20",
     "showTitle": false,
     "tableResultSettingsMap": {},
     "title": ""
    }
   },
   "outputs": [],
   "source": [
    "%sql\n",
    "MERGE INTO healthcarerevenuecyclemanagement_databricks.silver.npi_extracts AS target\n",
    "USING npis AS source\n",
    "ON target.npi_id = source.npi_id AND target.is_current = True\n",
    "WHEN MATCHED AND (\n",
    "  target.first_name <> source.first_name OR\n",
    "  target.last_name != source.last_name OR\n",
    "  target.position != source.position OR\n",
    "  target.organisation_name != source.organisation_name OR\n",
    "  target.last_updated != source.last_updated\n",
    ") THEN\n",
    "  UPDATE SET\n",
    "  target.is_current = FALSE,\n",
    "  target.updated_date = current_date()\n",
    "WHEN NOT MATCHED THEN\n",
    "  INSERT (\n",
    "  npi_id,\n",
    "  first_name,\n",
    "  last_name,\n",
    "  last_updated,\n",
    "  organisation_name,\n",
    "  position,\n",
    "  refreshed_at,\n",
    "  inserted_date,\n",
    "  updated_date,\n",
    "  is_current\n",
    "  )\n",
    "  VALUES (\n",
    "  source.npi_id,\n",
    "  source.first_name,\n",
    "  source.last_name,\n",
    "  source.last_updated,\n",
    "  source.organisation_name,\n",
    "  source.position,\n",
    "  source.refreshed_at,\n",
    "  current_date(),\n",
    "  current_date(),\n",
    "  True\n",
    "  )"
   ]
  },
  {
   "cell_type": "code",
   "execution_count": 0,
   "metadata": {
    "application/vnd.databricks.v1+cell": {
     "cellMetadata": {
      "byteLimit": 2048000,
      "implicitDf": true,
      "rowLimit": 10000
     },
     "inputWidgets": {},
     "nuid": "1767acba-a341-440a-b279-9d6ebff81561",
     "showTitle": false,
     "tableResultSettingsMap": {},
     "title": ""
    }
   },
   "outputs": [],
   "source": [
    "%sql\n",
    "SELECT * FROM healthcarerevenuecyclemanagement_databricks.silver.npi_extracts;"
   ]
  }
 ],
 "metadata": {
  "application/vnd.databricks.v1+notebook": {
   "computePreferences": null,
   "dashboards": [],
   "environmentMetadata": {
    "base_environment": "",
    "environment_version": "2"
   },
   "inputWidgetPreferences": null,
   "language": "python",
   "notebookMetadata": {
    "mostRecentlyExecutedCommandWithImplicitDF": {
     "commandId": 5141533273973984,
     "dataframes": [
      "_sqldf"
     ]
    },
    "pythonIndentUnit": 4
   },
   "notebookName": "NPI_Extracts",
   "widgets": {}
  },
  "language_info": {
   "name": "python"
  }
 },
 "nbformat": 4,
 "nbformat_minor": 0
}
