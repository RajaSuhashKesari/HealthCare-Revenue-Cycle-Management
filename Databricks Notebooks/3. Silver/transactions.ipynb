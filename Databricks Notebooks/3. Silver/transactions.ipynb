{
 "cells": [
  {
   "cell_type": "code",
   "execution_count": 0,
   "metadata": {
    "application/vnd.databricks.v1+cell": {
     "cellMetadata": {
      "byteLimit": 2048000,
      "rowLimit": 10000
     },
     "inputWidgets": {},
     "nuid": "bea24ccd-03f5-4eb6-a61b-86e7d6ef60e9",
     "showTitle": false,
     "tableResultSettingsMap": {},
     "title": ""
    }
   },
   "outputs": [],
   "source": [
    "from pyspark.sql import functions as f\n",
    "\n",
    "#Reading Hospital-1 transaction data from bronze layer.\n",
    "df_hospital1=spark.read.parquet('/mnt/bronze/Hospital-1/transactions')\n",
    "\n",
    "#Reading Hospital-2 transaction data from bronze layer.\n",
    "df_hospital2=spark.read.parquet('/mnt/bronze/Hospital-2/transactions')\n",
    "\n",
    "#Adding datasource columns to the dataframes\n",
    "#df_hospital1 = df_hospital1.withColumn(\"datasource\", f.lit(\"Hospital-1\"))\n",
    "#df_hospital2 = df_hospital2.withColumn(\"datasource\", f.lit(\"Hospital-2\"))\n",
    "\n",
    "df_merged=df_hospital1.unionByName(df_hospital2)\n",
    "\n",
    "df_merged.createOrReplaceTempView(\"transactions\")"
   ]
  },
  {
   "cell_type": "code",
   "execution_count": 0,
   "metadata": {
    "application/vnd.databricks.v1+cell": {
     "cellMetadata": {
      "byteLimit": 2048000,
      "implicitDf": true,
      "rowLimit": 10000
     },
     "inputWidgets": {},
     "nuid": "9e9a6646-7b62-43d0-b9ee-86e0d80e8291",
     "showTitle": false,
     "tableResultSettingsMap": {},
     "title": ""
    }
   },
   "outputs": [],
   "source": [
    "%sql\n",
    "DESCRIBE transactions"
   ]
  },
  {
   "cell_type": "code",
   "execution_count": 0,
   "metadata": {
    "application/vnd.databricks.v1+cell": {
     "cellMetadata": {
      "byteLimit": 2048000,
      "implicitDf": true,
      "rowLimit": 10000
     },
     "inputWidgets": {},
     "nuid": "a04ed234-23c6-4d6c-825a-f6d96d8d7f32",
     "showTitle": false,
     "tableResultSettingsMap": {},
     "title": ""
    }
   },
   "outputs": [],
   "source": [
    "%sql\n",
    "CREATE OR REPLACE TEMP VIEW quality_checks AS\n",
    "SELECT\n",
    "concat(TransactionID,'-',datasource) AS TransactionID,\n",
    "TransactionID AS SRC_TransactionID,\n",
    "EncounterID,\n",
    "PatientID,\n",
    "ProviderID,\n",
    "DeptID,\n",
    "VisitDate,\n",
    "ServiceDate,\n",
    "PaidDate,\n",
    "VisitType,\n",
    "Amount,\n",
    "AmountType,\n",
    "PaidAmount,\n",
    "ClaimID,\n",
    "PayorID,\n",
    "ProcedureCode,\n",
    "ICDCode,\n",
    "LineOfBusiness,\n",
    "MedicaidID,\n",
    "MedicareID,\n",
    "InsertDate AS SRC_InsertDate,\n",
    "ModifiedDate AS SRC_ModifiedDate,\n",
    "datasource,\n",
    "CASE\n",
    "    WHEN TransactionID IS NULL OR EncounterID IS NULL OR PatientID IS NULL OR VisitDate IS NULL THEN TRUE\n",
    "    ELSE FALSE\n",
    "END AS is_quarantined\n",
    "FROM transactions;"
   ]
  },
  {
   "cell_type": "code",
   "execution_count": 0,
   "metadata": {
    "application/vnd.databricks.v1+cell": {
     "cellMetadata": {
      "byteLimit": 2048000,
      "implicitDf": true,
      "rowLimit": 10000
     },
     "inputWidgets": {},
     "nuid": "453aa334-9d4e-4f20-839f-c16e2e4f0533",
     "showTitle": false,
     "tableResultSettingsMap": {},
     "title": ""
    }
   },
   "outputs": [],
   "source": [
    "%sql\n",
    "DESCRIBE quality_checks;"
   ]
  },
  {
   "cell_type": "code",
   "execution_count": 0,
   "metadata": {
    "application/vnd.databricks.v1+cell": {
     "cellMetadata": {
      "byteLimit": 2048000,
      "implicitDf": true,
      "rowLimit": 10000
     },
     "inputWidgets": {},
     "nuid": "856514f3-dc6d-491b-a067-093cfca49616",
     "showTitle": false,
     "tableResultSettingsMap": {},
     "title": ""
    }
   },
   "outputs": [],
   "source": [
    "%sql\n",
    "CREATE TABLE IF NOT EXISTS healthcarerevenuecyclemanagement_databricks.silver.transactions(\n",
    "TransactionID STRING,\n",
    "SRC_TransactionID STRING,\n",
    "EncounterID STRING,\n",
    "PatientID STRING,\n",
    "ProviderID STRING,\n",
    "DeptID STRING,\n",
    "VisitDate DATE,\n",
    "ServiceDate DATE,\n",
    "PaidDate DATE,\n",
    "VisitType STRING,\n",
    "Amount DECIMAL,\n",
    "AmountType STRING,\n",
    "PaidAmount DECIMAL,\n",
    "ClaimID STRING,\n",
    "PayorID STRING,\n",
    "ProcedureCode STRING,\n",
    "ICDCode STRING,\n",
    "LineOfBusiness STRING,\n",
    "MedicaidID STRING,\n",
    "MedicareID STRING,\n",
    "SRC_InsertDate DATE,\n",
    "SRC_ModifiedDate DATE,\n",
    "datasource STRING,\n",
    "is_quarantined BOOLEAN,\n",
    "audit_insertdate TIMESTAMP,\n",
    "audit_modifieddate TIMESTAMP,\n",
    "is_current BOOLEAN\n",
    ") USING DELTA;"
   ]
  },
  {
   "cell_type": "code",
   "execution_count": 0,
   "metadata": {
    "application/vnd.databricks.v1+cell": {
     "cellMetadata": {
      "byteLimit": 2048000,
      "implicitDf": true,
      "rowLimit": 10000
     },
     "inputWidgets": {},
     "nuid": "5391613b-19b9-48f3-8cc2-59c15257918e",
     "showTitle": false,
     "tableResultSettingsMap": {},
     "title": ""
    }
   },
   "outputs": [],
   "source": [
    "%sql\n",
    "MERGE INTO healthcarerevenuecyclemanagement_databricks.silver.transactions AS target\n",
    "USING quality_checks AS source\n",
    "ON target.TransactionID = source.TransactionID\n",
    "AND target.is_current = TRUE\n",
    "WHEN MATCHED AND\n",
    "(\n",
    "  target.TransactionID <> source.SRC_TransactionID OR\n",
    "  target.SRC_TransactionID <> source.SRC_TransactionID OR\n",
    "  target.EncounterID <> source.EncounterID OR\n",
    "  target.PatientID <> source.PatientID OR\n",
    "  target.ProviderID <> source.ProviderID OR\n",
    "  target.DeptID <> source.DeptID OR\n",
    "  target.VisitDate <> source.VisitDate OR\n",
    "  target.ServiceDate <> source.ServiceDate OR\n",
    "  target.PaidDate <> source.PaidDate OR\n",
    "  target.VisitType <> source.VisitType OR\n",
    "  target.Amount <> source.Amount OR\n",
    "  target.AmountType <> source.AmountType OR\n",
    "  target.PaidAmount <> source.PaidAmount OR\n",
    "  target.ClaimID <> source.ClaimID OR\n",
    "  target.PayorID <> source.PayorID OR\n",
    "  target.ProcedureCode <> source.ProcedureCode OR\n",
    "  target.ICDCode <> source.ICDCode OR\n",
    "  target.LineOfBusiness <> source.LineOfBusiness OR\n",
    "  target.MedicaidID <> source.MedicaidID OR\n",
    "  target.MedicareID <> source.MedicareID OR\n",
    "  target.SRC_InsertDate <> source.SRC_InsertDate OR\n",
    "  target.SRC_ModifiedDate <> source.SRC_ModifiedDate OR\n",
    "  target.datasource <> source.datasource OR\n",
    "  target.is_quarantined <> source.is_quarantined\n",
    ")\n",
    "THEN UPDATE \n",
    "SET target.is_current = FALSE,\n",
    "    target.audit_modifieddate = current_timestamp();"
   ]
  },
  {
   "cell_type": "code",
   "execution_count": 0,
   "metadata": {
    "application/vnd.databricks.v1+cell": {
     "cellMetadata": {
      "byteLimit": 2048000,
      "implicitDf": true,
      "rowLimit": 10000
     },
     "inputWidgets": {},
     "nuid": "7af0f929-1d98-48b1-b681-da6ddb936a07",
     "showTitle": false,
     "tableResultSettingsMap": {},
     "title": ""
    }
   },
   "outputs": [],
   "source": [
    "%sql\n",
    "MERGE INTO healthcarerevenuecyclemanagement_databricks.silver.transactions AS target\n",
    "USING quality_checks AS source\n",
    "ON target.TransactionID = source.TransactionID\n",
    "AND target.is_quarantined = TRUE\n",
    "WHEN NOT MATCHED THEN INSERT(\n",
    "TransactionID,\n",
    "SRC_TransactionID,\n",
    "EncounterID,\n",
    "PatientID,\n",
    "ProviderID,\n",
    "DeptID,\n",
    "VisitDate,\n",
    "ServiceDate,\n",
    "PaidDate,\n",
    "VisitType,\n",
    "Amount,\n",
    "AmountType,\n",
    "PaidAmount,\n",
    "ClaimID,\n",
    "PayorID,\n",
    "ProcedureCode,\n",
    "ICDCode,\n",
    "LineOfBusiness,\n",
    "MedicaidID,\n",
    "MedicareID,\n",
    "SRC_InsertDate,\n",
    "SRC_ModifiedDate,\n",
    "datasource,\n",
    "is_quarantined,\n",
    "audit_insertdate,\n",
    "audit_modifieddate,\n",
    "is_current\n",
    ") VALUES (\n",
    "source.TransactionID,\n",
    "source.SRC_TransactionID,\n",
    "source.EncounterID,\n",
    "source.PatientID,\n",
    "source.ProviderID,\n",
    "source.DeptID,\n",
    "CAST(source.VisitDate AS DATE),\n",
    "CAST(source.ServiceDate AS DATE),\n",
    "CAST(source.PaidDate AS DATE),\n",
    "source.VisitType,\n",
    "CAST(source.Amount AS DECIMAL),\n",
    "source.AmountType,\n",
    "CAST(source.PaidAmount AS DECIMAL),\n",
    "source.ClaimID,\n",
    "source.PayorID,\n",
    "source.ProcedureCode,\n",
    "source.ICDCode,\n",
    "source.LineOfBusiness,\n",
    "source.MedicaidID,\n",
    "source.MedicareID,\n",
    "CAST(source.SRC_InsertDate AS DATE),\n",
    "CAST(source.SRC_ModifiedDate AS DATE),\n",
    "CAST(source.datasource AS BOOLEAN),\n",
    "source.is_quarantined,\n",
    "current_timestamp(),\n",
    "current_timestamp(),\n",
    "true\n",
    ");"
   ]
  },
  {
   "cell_type": "code",
   "execution_count": 0,
   "metadata": {
    "application/vnd.databricks.v1+cell": {
     "cellMetadata": {
      "byteLimit": 2048000,
      "implicitDf": true,
      "rowLimit": 10000
     },
     "inputWidgets": {},
     "nuid": "12842e31-ffe5-4f28-ab80-418dc60a8fda",
     "showTitle": false,
     "tableResultSettingsMap": {},
     "title": ""
    }
   },
   "outputs": [],
   "source": [
    "%sql\n",
    "SELECT TransactionID,count(*) FROM healthcarerevenuecyclemanagement_databricks.silver.transactions GROUP BY TransactionID ORDER BY 2 desc;"
   ]
  }
 ],
 "metadata": {
  "application/vnd.databricks.v1+notebook": {
   "computePreferences": null,
   "dashboards": [],
   "environmentMetadata": {
    "base_environment": "",
    "environment_version": "2"
   },
   "inputWidgetPreferences": null,
   "language": "python",
   "notebookMetadata": {
    "mostRecentlyExecutedCommandWithImplicitDF": {
     "commandId": 2534358018480226,
     "dataframes": [
      "_sqldf"
     ]
    },
    "pythonIndentUnit": 4
   },
   "notebookName": "transactions",
   "widgets": {}
  },
  "language_info": {
   "name": "python"
  }
 },
 "nbformat": 4,
 "nbformat_minor": 0
}
