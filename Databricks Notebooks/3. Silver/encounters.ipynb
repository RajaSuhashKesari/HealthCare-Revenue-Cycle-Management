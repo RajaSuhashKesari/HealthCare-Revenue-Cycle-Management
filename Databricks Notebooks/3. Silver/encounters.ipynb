{
 "cells": [
  {
   "cell_type": "code",
   "execution_count": 0,
   "metadata": {
    "application/vnd.databricks.v1+cell": {
     "cellMetadata": {
      "byteLimit": 2048000,
      "implicitDf": true,
      "rowLimit": 10000
     },
     "inputWidgets": {},
     "nuid": "767da213-b52c-4776-a939-030a3879c77a",
     "showTitle": false,
     "tableResultSettingsMap": {},
     "title": ""
    }
   },
   "outputs": [],
   "source": [
    "%sql\n",
    "CREATE OR REPLACE TEMP VIEW h1encounters\n",
    "USING PARQUET\n",
    "OPTIONS(\n",
    "  path 'dbfs:/mnt/bronze/Hospital-1/Archive/2025/2/18/encounters'\n",
    ");\n",
    "\n",
    "CREATE OR REPLACE TEMP VIEW h2encounters\n",
    "USING PARQUET\n",
    "OPTIONS(\n",
    "  path 'dbfs:/mnt/bronze/Hospital-2/Archive/2025/2/18/encounters'\n",
    ");"
   ]
  },
  {
   "cell_type": "code",
   "execution_count": 0,
   "metadata": {
    "application/vnd.databricks.v1+cell": {
     "cellMetadata": {
      "byteLimit": 2048000,
      "implicitDf": true,
      "rowLimit": 10000
     },
     "inputWidgets": {},
     "nuid": "6b40b041-1656-4370-999b-9ded4e05eb2c",
     "showTitle": false,
     "tableResultSettingsMap": {},
     "title": ""
    }
   },
   "outputs": [],
   "source": [
    "%sql\n",
    "CREATE OR REPLACE TEMP VIEW h1encounters AS\n",
    "SELECT *, 'Hospital-1' AS datasource\n",
    "FROM PARQUET.`dbfs:/mnt/bronze/Hospital-1/Archive/2025/2/18/encounters`;\n",
    "\n",
    "CREATE OR REPLACE TEMP VIEW h2encounters AS\n",
    "SELECT *, 'Hospital-2' AS datasource\n",
    "FROM PARQUET.`dbfs:/mnt/bronze/Hospital-2/Archive/2025/2/18/encounters`;"
   ]
  },
  {
   "cell_type": "code",
   "execution_count": 0,
   "metadata": {
    "application/vnd.databricks.v1+cell": {
     "cellMetadata": {
      "byteLimit": 2048000,
      "implicitDf": true,
      "rowLimit": 10000
     },
     "inputWidgets": {},
     "nuid": "bf3b9b3b-e81c-4316-a0a2-179ad36dde87",
     "showTitle": false,
     "tableResultSettingsMap": {},
     "title": ""
    }
   },
   "outputs": [],
   "source": [
    "%sql\n",
    "DESCRIBE h1encounters;"
   ]
  },
  {
   "cell_type": "code",
   "execution_count": 0,
   "metadata": {
    "application/vnd.databricks.v1+cell": {
     "cellMetadata": {
      "byteLimit": 2048000,
      "implicitDf": true,
      "rowLimit": 10000
     },
     "inputWidgets": {},
     "nuid": "d5cb981d-a6c8-49c7-96ab-6ecd7d82eb41",
     "showTitle": false,
     "tableResultSettingsMap": {},
     "title": ""
    }
   },
   "outputs": [],
   "source": [
    "%sql\n",
    "DESCRIBE h2encounters;"
   ]
  },
  {
   "cell_type": "code",
   "execution_count": 0,
   "metadata": {
    "application/vnd.databricks.v1+cell": {
     "cellMetadata": {
      "byteLimit": 2048000,
      "implicitDf": true,
      "rowLimit": 10000
     },
     "inputWidgets": {},
     "nuid": "a954575f-0329-425b-8c59-d4a21104e53e",
     "showTitle": false,
     "tableResultSettingsMap": {},
     "title": ""
    }
   },
   "outputs": [],
   "source": [
    "%sql\n",
    "select * from h1encounters;"
   ]
  },
  {
   "cell_type": "code",
   "execution_count": 0,
   "metadata": {
    "application/vnd.databricks.v1+cell": {
     "cellMetadata": {
      "byteLimit": 2048000,
      "implicitDf": true,
      "rowLimit": 10000
     },
     "inputWidgets": {},
     "nuid": "2125d9e8-b78c-4b0f-bd4a-62b733f7ad27",
     "showTitle": false,
     "tableResultSettingsMap": {},
     "title": ""
    }
   },
   "outputs": [],
   "source": [
    "%sql\n",
    "select * from h2encounters;"
   ]
  },
  {
   "cell_type": "code",
   "execution_count": 0,
   "metadata": {
    "application/vnd.databricks.v1+cell": {
     "cellMetadata": {
      "byteLimit": 2048000,
      "implicitDf": true,
      "rowLimit": 10000
     },
     "inputWidgets": {},
     "nuid": "22c074e9-290e-427c-b3b2-ad87336bf6cc",
     "showTitle": false,
     "tableResultSettingsMap": {},
     "title": ""
    }
   },
   "outputs": [],
   "source": [
    "%sql\n",
    "CREATE OR REPLACE TEMP VIEW cmd_encounters\n",
    "AS (\n",
    "  SELECT * FROM h1encounters UNION ALL SELECT * FROM h2encounters\n",
    ");"
   ]
  },
  {
   "cell_type": "code",
   "execution_count": 0,
   "metadata": {
    "application/vnd.databricks.v1+cell": {
     "cellMetadata": {
      "byteLimit": 2048000,
      "implicitDf": true,
      "rowLimit": 10000
     },
     "inputWidgets": {},
     "nuid": "4873c790-501e-41c3-8149-34087d507a19",
     "showTitle": false,
     "tableResultSettingsMap": {},
     "title": ""
    }
   },
   "outputs": [],
   "source": [
    "%sql\n",
    "CREATE OR REPLACE TEMP VIEW quality_checks AS\n",
    "SELECT\n",
    "CONCAT(EncounterID,'-',datasource) AS EncounterID,\n",
    "EncounterID AS SRC_EncounterID,\n",
    "PatientID,\n",
    "EncounterDate,\n",
    "EncounterType,\n",
    "ProviderID,\n",
    "DepartmentID,\n",
    "ProcedureCode,\n",
    "InsertedDate AS SRC_InsertedDate,\n",
    "ModifiedDate AS SRC_ModifiedDate,\n",
    "datasource,\n",
    "CASE\n",
    "WHEN EncounterID IS NULL OR PatientID IS NULL THEN TRUE\n",
    "ELSE FALSE\n",
    "END AS is_quarantined FROM cmd_encounters;"
   ]
  },
  {
   "cell_type": "code",
   "execution_count": 0,
   "metadata": {
    "application/vnd.databricks.v1+cell": {
     "cellMetadata": {
      "byteLimit": 2048000,
      "implicitDf": true,
      "rowLimit": 10000
     },
     "inputWidgets": {},
     "nuid": "42b0e04e-e5d7-4f07-a067-3a93b9204492",
     "showTitle": false,
     "tableResultSettingsMap": {},
     "title": ""
    }
   },
   "outputs": [],
   "source": [
    "%sql\n",
    "CREATE TABLE IF NOT EXISTS healthcarerevenuecyclemanagement_databricks.silver.encounters(\n",
    "  EncounterID STRING,\n",
    "  SRC_EncounterID STRING,\n",
    "  PatientID STRING,\n",
    "  EncounterDate DATE,\n",
    "  EncounterType STRING,\n",
    "  ProviderID STRING,\n",
    "  DepartmentID STRING,\n",
    "  ProcedureCode STRING,\n",
    "  SRC_InsertedDate DATE,\n",
    "  SRC_ModifiedDate DATE,\n",
    "  datasource STRING,\n",
    "  is_quarantined BOOLEAN,\n",
    "  audit_inserteddate TIMESTAMP,\n",
    "  audit_modifieddate TIMESTAMP,\n",
    "  is_current BOOLEAN\n",
    ") USING DELTA;"
   ]
  },
  {
   "cell_type": "code",
   "execution_count": 0,
   "metadata": {
    "application/vnd.databricks.v1+cell": {
     "cellMetadata": {
      "byteLimit": 2048000,
      "implicitDf": true,
      "rowLimit": 10000
     },
     "inputWidgets": {},
     "nuid": "cd80d535-6ac6-4976-ae76-56b1e0eb0d30",
     "showTitle": false,
     "tableResultSettingsMap": {},
     "title": ""
    }
   },
   "outputs": [],
   "source": [
    "%sql\n",
    "MERGE INTO healthcarerevenuecyclemanagement_databricks.silver.encounters AS target\n",
    "USING quality_checks AS source\n",
    "ON target.EncounterID = source.EncounterID\n",
    "AND target.is_current = TRUE\n",
    "WHEN MATCHED AND(\n",
    "  target.EncounterID <> source.EncounterID OR\n",
    "  target.SRC_EncounterID <> source.SRC_EncounterID OR\n",
    "  target.PatientID <> source.PatientID OR\n",
    "  target.EncounterDate <> source.EncounterDate OR\n",
    "  target.EncounterType <> source.EncounterType OR\n",
    "  target.ProviderID <> source.ProviderID OR\n",
    "  target.DepartmentID <> source.DepartmentID OR\n",
    "  target.ProcedureCode <> source.ProcedureCode OR\n",
    "  target.SRC_InsertedDate <> source.SRC_InsertedDate OR\n",
    "  target.SRC_ModifiedDate <> source.SRC_ModifiedDate OR\n",
    "  target.datasource <> source.datasource OR\n",
    "  target.is_quarantined <> source.is_quarantined\n",
    ")\n",
    "THEN UPDATE SET is_current = FALSE,\n",
    "        audit_modifieddate = current_timestamp();"
   ]
  },
  {
   "cell_type": "code",
   "execution_count": 0,
   "metadata": {
    "application/vnd.databricks.v1+cell": {
     "cellMetadata": {
      "byteLimit": 2048000,
      "implicitDf": true,
      "rowLimit": 10000
     },
     "inputWidgets": {},
     "nuid": "0bcd74e1-d04f-45b2-a62c-b3e7cb33424b",
     "showTitle": false,
     "tableResultSettingsMap": {},
     "title": ""
    }
   },
   "outputs": [],
   "source": [
    "%sql\n",
    "MERGE INTO healthcarerevenuecyclemanagement_databricks.silver.encounters AS target\n",
    "USING quality_checks AS source\n",
    "ON target.EncounterID = source.EncounterID\n",
    "AND target.is_current = TRUE\n",
    "WHEN NOT MATCHED THEN INSERT(\n",
    "  EncounterID,\n",
    "  SRC_EncounterID,\n",
    "  PatientID,\n",
    "  EncounterDate,\n",
    "  EncounterType,\n",
    "  ProviderID,\n",
    "  DepartmentID,\n",
    "  ProcedureCode,\n",
    "  SRC_InsertedDate,\n",
    "  SRC_ModifiedDate,\n",
    "  datasource,\n",
    "  is_quarantined,\n",
    "  audit_inserteddate,\n",
    "  audit_modifieddate,\n",
    "  is_current\n",
    ") VALUES (\n",
    "  source.EncounterID,\n",
    "  source.SRC_EncounterID,\n",
    "  source.PatientID,\n",
    "  source.EncounterDate,\n",
    "  source.EncounterType,\n",
    "  source.ProviderID,\n",
    "  source.DepartmentID,\n",
    "  source.ProcedureCode,\n",
    "  source.SRC_InsertedDate,\n",
    "  source.SRC_ModifiedDate,\n",
    "  source.datasource,\n",
    "  source.is_quarantined,\n",
    "  current_timestamp(),\n",
    "  current_timestamp(),\n",
    "  TRUE\n",
    ");"
   ]
  },
  {
   "cell_type": "code",
   "execution_count": 0,
   "metadata": {
    "application/vnd.databricks.v1+cell": {
     "cellMetadata": {
      "byteLimit": 2048000,
      "implicitDf": true,
      "rowLimit": 10000
     },
     "inputWidgets": {},
     "nuid": "de5b75e5-a4d7-4269-8b08-3adaf849b8b9",
     "showTitle": false,
     "tableResultSettingsMap": {},
     "title": ""
    }
   },
   "outputs": [],
   "source": [
    "%sql\n",
    "DESCRIBE healthcarerevenuecyclemanagement_databricks.silver.encounters;\n",
    "SELECT * FROM healthcarerevenuecyclemanagement_databricks.silver.encounters;"
   ]
  },
  {
   "cell_type": "code",
   "execution_count": 0,
   "metadata": {
    "application/vnd.databricks.v1+cell": {
     "cellMetadata": {
      "byteLimit": 2048000,
      "implicitDf": true,
      "rowLimit": 10000
     },
     "inputWidgets": {},
     "nuid": "0adb8bb3-a1c3-407b-ad7b-aae394a1de33",
     "showTitle": false,
     "tableResultSettingsMap": {},
     "title": ""
    }
   },
   "outputs": [],
   "source": [
    "%sql\n",
    "SELECT * FROM healthcarerevenuecyclemanagement_databricks.silver.encounters where datasource = 'Hospital-1';"
   ]
  },
  {
   "cell_type": "code",
   "execution_count": 0,
   "metadata": {
    "application/vnd.databricks.v1+cell": {
     "cellMetadata": {},
     "inputWidgets": {},
     "nuid": "8310eb8c-3b00-482c-9a84-94c2318cbab2",
     "showTitle": false,
     "tableResultSettingsMap": {},
     "title": ""
    }
   },
   "outputs": [],
   "source": []
  }
 ],
 "metadata": {
  "application/vnd.databricks.v1+notebook": {
   "computePreferences": null,
   "dashboards": [],
   "environmentMetadata": {
    "base_environment": "",
    "environment_version": "2"
   },
   "inputWidgetPreferences": null,
   "language": "python",
   "notebookMetadata": {
    "mostRecentlyExecutedCommandWithImplicitDF": {
     "commandId": 8665740215719566,
     "dataframes": [
      "_sqldf"
     ]
    },
    "pythonIndentUnit": 4
   },
   "notebookName": "encounters",
   "widgets": {}
  },
  "language_info": {
   "name": "python"
  }
 },
 "nbformat": 4,
 "nbformat_minor": 0
}
