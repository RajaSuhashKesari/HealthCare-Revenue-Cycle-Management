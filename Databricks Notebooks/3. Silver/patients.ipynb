{
 "cells": [
  {
   "cell_type": "markdown",
   "metadata": {
    "application/vnd.databricks.v1+cell": {
     "cellMetadata": {
      "byteLimit": 2048000,
      "rowLimit": 10000
     },
     "inputWidgets": {},
     "nuid": "29c776ad-11ba-4d16-89e4-59dc94af301d",
     "showTitle": false,
     "tableResultSettingsMap": {},
     "title": ""
    }
   },
   "source": [
    "### **Implementing Slowly Changing Dimensions Type - 2 and Commman Data Modeling for Patients data**"
   ]
  },
  {
   "cell_type": "code",
   "execution_count": 0,
   "metadata": {
    "application/vnd.databricks.v1+cell": {
     "cellMetadata": {
      "byteLimit": 2048000,
      "rowLimit": 10000
     },
     "inputWidgets": {},
     "nuid": "b1a1bf43-59d2-4e9e-98b1-27f52d7d900a",
     "showTitle": false,
     "tableResultSettingsMap": {},
     "title": ""
    }
   },
   "outputs": [],
   "source": [
    "from pyspark.sql import functions as f\n",
    "\n",
    "#Reading patients data from Hospital-1\n",
    "patients_hospital1 = spark.read.parquet('/mnt/bronze/Hospital-1/patients')\n",
    "#patients_hospital1 = spark.read.parquet('/mnt/bronze/Hospital-1/Archive/2025/2/18/patients')\n",
    "#Reading patients data from Hospital-2\n",
    "patients_hospital2 = spark.read.parquet('/mnt/bronze/Hospital-2/patients')\n",
    "#patients_hospital2 = spark.read.parquet('/mnt/bronze/Hospital-2/Archive/2025/2/18/patients')\n",
    "\n",
    "#patients_hospital1=patients_hospital1.withColumn('datasource',f.lit('Hospital-1'))\n",
    "#patients_hospital2=patients_hospital2.withColumn('datasource',f.lit('Hospital-2'))\n",
    "\n",
    "patients_hospital1.createOrReplaceTempView('patients_hospital1')\n",
    "patients_hospital2.createOrReplaceTempView('patients_hospital2')"
   ]
  },
  {
   "cell_type": "code",
   "execution_count": 0,
   "metadata": {
    "application/vnd.databricks.v1+cell": {
     "cellMetadata": {
      "byteLimit": 2048000,
      "implicitDf": true,
      "rowLimit": 10000
     },
     "inputWidgets": {},
     "nuid": "d4f6120b-e77c-44ea-8522-c866ba9a341b",
     "showTitle": false,
     "tableResultSettingsMap": {},
     "title": ""
    }
   },
   "outputs": [],
   "source": [
    "%sql\n",
    "SELECT * FROM patients_hospital1;"
   ]
  },
  {
   "cell_type": "code",
   "execution_count": 0,
   "metadata": {
    "application/vnd.databricks.v1+cell": {
     "cellMetadata": {
      "byteLimit": 2048000,
      "implicitDf": true,
      "rowLimit": 10000
     },
     "inputWidgets": {},
     "nuid": "2537f08a-a845-4246-93e1-2e7319ef1d75",
     "showTitle": false,
     "tableResultSettingsMap": {},
     "title": ""
    }
   },
   "outputs": [],
   "source": [
    "%sql\n",
    "DESCRIBE patients_hospital1"
   ]
  },
  {
   "cell_type": "code",
   "execution_count": 0,
   "metadata": {
    "application/vnd.databricks.v1+cell": {
     "cellMetadata": {
      "byteLimit": 2048000,
      "implicitDf": true,
      "rowLimit": 10000
     },
     "inputWidgets": {},
     "nuid": "8b3ac739-e212-425a-b4a2-3911533febc1",
     "showTitle": false,
     "tableResultSettingsMap": {},
     "title": ""
    }
   },
   "outputs": [],
   "source": [
    "%sql\n",
    "DESCRIBE patients_hospital2;"
   ]
  },
  {
   "cell_type": "code",
   "execution_count": 0,
   "metadata": {
    "application/vnd.databricks.v1+cell": {
     "cellMetadata": {
      "byteLimit": 2048000,
      "implicitDf": true,
      "rowLimit": 10000
     },
     "inputWidgets": {},
     "nuid": "5ab5764f-9c40-4244-884b-4bcabf717546",
     "showTitle": false,
     "tableResultSettingsMap": {},
     "title": ""
    }
   },
   "outputs": [],
   "source": [
    "%sql\n",
    "SELECT * FROM patients_hospital2;"
   ]
  },
  {
   "cell_type": "code",
   "execution_count": 0,
   "metadata": {
    "application/vnd.databricks.v1+cell": {
     "cellMetadata": {
      "byteLimit": 2048000,
      "implicitDf": true,
      "rowLimit": 10000
     },
     "inputWidgets": {},
     "nuid": "9b18db2a-48ae-4f4c-bcd9-ff39eea638f7",
     "showTitle": false,
     "tableResultSettingsMap": {},
     "title": ""
    }
   },
   "outputs": [],
   "source": [
    "%sql\n",
    "CREATE OR REPLACE TEMP VIEW cmd_patients\n",
    "AS\n",
    "SELECT concat(SRC_PatientID,'-',datasource) AS Patient_Key,*\n",
    "FROM(\n",
    "  SELECT\n",
    "PatientID AS SRC_PatientID,\n",
    "FirstName,\n",
    "LastName,\n",
    "MiddleName,\n",
    "SSN,\n",
    "PhoneNumber,\n",
    "Gender,\n",
    "DOB,\n",
    "Address,\n",
    "ModifiedDate,\n",
    "datasource\n",
    "FROM patients_hospital1\n",
    "UNION ALL\n",
    "SELECT \n",
    "ID AS SRC_PatientID,\n",
    "F_Name AS FirstName,\n",
    "L_Name AS LastName,\n",
    "M_Name AS MiddleName,\n",
    "SSN,\n",
    "PhoneNumber,\n",
    "Gender,\n",
    "DOB,\n",
    "Address,\n",
    "Updated_Date AS ModifiedDate,\n",
    "datasource\n",
    "FROM patients_hospital2 \n",
    ")"
   ]
  },
  {
   "cell_type": "code",
   "execution_count": 0,
   "metadata": {
    "application/vnd.databricks.v1+cell": {
     "cellMetadata": {
      "byteLimit": 2048000,
      "implicitDf": true,
      "rowLimit": 10000
     },
     "inputWidgets": {},
     "nuid": "9a736b14-ee0a-4e5c-8c61-a734a78c38cd",
     "showTitle": false,
     "tableResultSettingsMap": {},
     "title": ""
    }
   },
   "outputs": [],
   "source": [
    "%sql\n",
    "DESCRIBE cmd_patients"
   ]
  },
  {
   "cell_type": "code",
   "execution_count": 0,
   "metadata": {
    "application/vnd.databricks.v1+cell": {
     "cellMetadata": {
      "byteLimit": 2048000,
      "implicitDf": true,
      "rowLimit": 10000
     },
     "inputWidgets": {},
     "nuid": "d68e3f6c-4051-47c8-bed9-1adf20720ae0",
     "showTitle": false,
     "tableResultSettingsMap": {},
     "title": ""
    }
   },
   "outputs": [],
   "source": [
    "%sql\n",
    "CREATE OR REPLACE TEMP VIEW quality_checks\n",
    "AS(\n",
    "  SELECT *,\n",
    "  CASE\n",
    "  WHEN SRC_PatientID IS NULL OR DOB IS NULL OR FirstName IS NULL or lower(FirstName)='null' THEN TRUE\n",
    "  ELSE FALSE END AS is_quarantined \n",
    "  FROM cmd_patients\n",
    ")"
   ]
  },
  {
   "cell_type": "code",
   "execution_count": 0,
   "metadata": {
    "application/vnd.databricks.v1+cell": {
     "cellMetadata": {
      "byteLimit": 2048000,
      "implicitDf": true,
      "rowLimit": 10000
     },
     "inputWidgets": {},
     "nuid": "f1c843c4-a165-4c9e-94b6-a717882018c2",
     "showTitle": false,
     "tableResultSettingsMap": {},
     "title": ""
    }
   },
   "outputs": [],
   "source": [
    "%sql\n",
    "DESCRIBE quality_checks;"
   ]
  },
  {
   "cell_type": "code",
   "execution_count": 0,
   "metadata": {
    "application/vnd.databricks.v1+cell": {
     "cellMetadata": {
      "byteLimit": 2048000,
      "implicitDf": true,
      "rowLimit": 10000
     },
     "inputWidgets": {},
     "nuid": "f5cb952b-9fe9-4183-9c29-ea296c100e49",
     "showTitle": false,
     "tableResultSettingsMap": {},
     "title": ""
    }
   },
   "outputs": [],
   "source": [
    "%sql\n",
    "SELECT * FROM quality_checks ORDER BY is_quarantined DESC;"
   ]
  },
  {
   "cell_type": "code",
   "execution_count": 0,
   "metadata": {
    "application/vnd.databricks.v1+cell": {
     "cellMetadata": {
      "byteLimit": 2048000,
      "implicitDf": true,
      "rowLimit": 10000
     },
     "inputWidgets": {},
     "nuid": "20475ada-6202-4343-8487-38d74d057b0b",
     "showTitle": false,
     "tableResultSettingsMap": {},
     "title": ""
    }
   },
   "outputs": [],
   "source": [
    "%sql\n",
    "CREATE TABLE IF NOT EXISTS healthcarerevenuecyclemanagement_databricks.silver.patients(\n",
    "Patient_Key STRING,\n",
    "SRC_PatientID STRING,\n",
    "FirstName STRING,\n",
    "LastName STRING,\n",
    "MiddleName STRING,\n",
    "SSN STRING,\n",
    "PhoneNumber STRING,\n",
    "Gender STRING,\n",
    "DOB DATE,\n",
    "Address STRING,\n",
    "SRC_ModifiedDate DATE,\n",
    "datasource STRING,\n",
    "is_quarantined BOOLEAN,\n",
    "inserted_date TIMESTAMP,\n",
    "modified_date TIMESTAMP,\n",
    "is_current BOOLEAN\n",
    ") USING DELTA;"
   ]
  },
  {
   "cell_type": "code",
   "execution_count": 0,
   "metadata": {
    "application/vnd.databricks.v1+cell": {
     "cellMetadata": {
      "byteLimit": 2048000,
      "implicitDf": true,
      "rowLimit": 10000
     },
     "inputWidgets": {},
     "nuid": "b1a2e442-d8cf-4fba-ac5c-49a101dd1958",
     "showTitle": false,
     "tableResultSettingsMap": {},
     "title": ""
    }
   },
   "outputs": [],
   "source": [
    "%sql\n",
    "MERGE INTO healthcarerevenuecyclemanagement_databricks.silver.patients AS target\n",
    "USING quality_checks AS source\n",
    "ON target.Patient_Key = source.Patient_Key\n",
    "AND target.is_current = true\n",
    "WHEN MATCHED \n",
    "AND (\n",
    "     target.SRC_PatientID <> source.SRC_PatientID\n",
    "  OR target.FirstName <> source.FirstName\n",
    "  OR target.LastName <> source.LastName\n",
    "  OR target.MiddleName <> source.MiddleName\n",
    "  OR target.SSN <> source.SSN\n",
    "  OR target.PhoneNumber <> source.PhoneNumber\n",
    "  OR target.Gender <> source.Gender\n",
    "  OR target.DOB <> source.DOB\n",
    "  OR target.Address <> source.Address\n",
    "  OR target.SRC_ModifiedDate <> source.ModifiedDate\n",
    "  OR target.datasource <> source.datasource\n",
    "  OR target.is_quarantined <> source.is_quarantined)\n",
    "THEN UPDATE SET \n",
    "    target.is_quarantined = false,\n",
    "    target.modified_date = current_timestamp()"
   ]
  },
  {
   "cell_type": "code",
   "execution_count": 0,
   "metadata": {
    "application/vnd.databricks.v1+cell": {
     "cellMetadata": {
      "byteLimit": 2048000,
      "implicitDf": true,
      "rowLimit": 10000
     },
     "inputWidgets": {},
     "nuid": "b4bd3228-bbdd-4d50-8313-f0039b87bae6",
     "showTitle": false,
     "tableResultSettingsMap": {},
     "title": ""
    }
   },
   "outputs": [],
   "source": [
    "%sql\n",
    "MERGE INTO silver.patients AS target\n",
    "USING quality_checks AS source\n",
    "ON target.Patient_Key = source.Patient_Key\n",
    "AND target.is_current = TRUE\n",
    "WHEN NOT MATCHED \n",
    "THEN INSERT (\n",
    "Patient_Key,\n",
    "SRC_PatientID,\n",
    "FirstName,\n",
    "LastName,\n",
    "MiddleName,\n",
    "SSN,\n",
    "PhoneNumber,\n",
    "Gender,\n",
    "DOB,\n",
    "Address,\n",
    "SRC_ModifiedDate,\n",
    "datasource,\n",
    "is_quarantined,\n",
    "inserted_date,\n",
    "modified_date,\n",
    "is_current) \n",
    "VALUES (\n",
    "  source.Patient_Key,\n",
    "  source.SRC_PatientID,\n",
    "  source.FirstName,\n",
    "  source.LastName,\n",
    "  source.MiddleName,\n",
    "  source.SSN,\n",
    "  source.PhoneNumber,\n",
    "  source.Gender,\n",
    "  source.DOB,\n",
    "  source.Address,\n",
    "  source.ModifiedDate,\n",
    "  source.datasource,\n",
    "  source.is_quarantined,\n",
    "  current_timestamp(),\n",
    "  current_timestamp(),\n",
    "  true\n",
    ")"
   ]
  },
  {
   "cell_type": "code",
   "execution_count": 0,
   "metadata": {
    "application/vnd.databricks.v1+cell": {
     "cellMetadata": {
      "byteLimit": 2048000,
      "implicitDf": true,
      "rowLimit": 10000
     },
     "inputWidgets": {},
     "nuid": "d54c8379-7182-41ac-a4d2-ce0b7d12ee64",
     "showTitle": false,
     "tableResultSettingsMap": {},
     "title": ""
    }
   },
   "outputs": [],
   "source": [
    "%sql\n",
    "select Patient_Key,count(*) from silver.patients\n",
    "group by Patient_Key\n",
    "order by 2 desc"
   ]
  },
  {
   "cell_type": "code",
   "execution_count": 0,
   "metadata": {
    "application/vnd.databricks.v1+cell": {
     "cellMetadata": {
      "byteLimit": 2048000,
      "implicitDf": true,
      "rowLimit": 10000
     },
     "inputWidgets": {},
     "nuid": "050aadb0-93d1-461c-89b4-75cb5734209b",
     "showTitle": false,
     "tableResultSettingsMap": {},
     "title": ""
    }
   },
   "outputs": [],
   "source": [
    "%sql\n",
    "select * from healthcarerevenuecyclemanagement_databricks.silver.patients;"
   ]
  },
  {
   "cell_type": "code",
   "execution_count": 0,
   "metadata": {
    "application/vnd.databricks.v1+cell": {
     "cellMetadata": {
      "byteLimit": 2048000,
      "implicitDf": true,
      "rowLimit": 10000
     },
     "inputWidgets": {},
     "nuid": "f46d455f-29bd-49d5-a95a-95b2be9193dd",
     "showTitle": false,
     "tableResultSettingsMap": {},
     "title": ""
    }
   },
   "outputs": [],
   "source": [
    "%sql  \n",
    "describe healthcarerevenuecyclemanagement_databricks.silver.patients;"
   ]
  }
 ],
 "metadata": {
  "application/vnd.databricks.v1+notebook": {
   "computePreferences": null,
   "dashboards": [],
   "environmentMetadata": {
    "base_environment": "",
    "environment_version": "2"
   },
   "inputWidgetPreferences": null,
   "language": "python",
   "notebookMetadata": {
    "mostRecentlyExecutedCommandWithImplicitDF": {
     "commandId": 4833696519520323,
     "dataframes": [
      "_sqldf"
     ]
    },
    "pythonIndentUnit": 4
   },
   "notebookName": "patients",
   "widgets": {}
  },
  "language_info": {
   "name": "python"
  }
 },
 "nbformat": 4,
 "nbformat_minor": 0
}
