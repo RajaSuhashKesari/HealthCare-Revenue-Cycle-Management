{
 "cells": [
  {
   "cell_type": "code",
   "execution_count": 0,
   "metadata": {
    "application/vnd.databricks.v1+cell": {
     "cellMetadata": {
      "byteLimit": 2048000,
      "rowLimit": 10000
     },
     "inputWidgets": {},
     "nuid": "3148f00f-ce29-44f5-ae25-6943914dd06d",
     "showTitle": false,
     "tableResultSettingsMap": {},
     "title": ""
    }
   },
   "outputs": [],
   "source": [
    "df_icd_codes=spark.read.parquet('/mnt/bronze/icd_codes/*.parquet')\n",
    "\n",
    "df_icd_codes.createOrReplaceTempView('icd_codes')"
   ]
  },
  {
   "cell_type": "code",
   "execution_count": 0,
   "metadata": {
    "application/vnd.databricks.v1+cell": {
     "cellMetadata": {
      "byteLimit": 2048000,
      "implicitDf": true,
      "rowLimit": 10000
     },
     "inputWidgets": {},
     "nuid": "cf7e9986-ee96-46fe-a444-1792cfd691db",
     "showTitle": false,
     "tableResultSettingsMap": {},
     "title": ""
    }
   },
   "outputs": [],
   "source": [
    "%sql\n",
    "CREATE TABLE IF NOT EXISTS healthcarerevenuecyclemanagement_databricks.silver.icd_codes(\n",
    "  icd_code STRING,\n",
    "  icd_code_type STRING,\n",
    "  code_description STRING,\n",
    "  inserted_date DATE,\n",
    "  updated_date DATE,\n",
    "  is_current_flag BOOLEAN\n",
    ")"
   ]
  },
  {
   "cell_type": "code",
   "execution_count": 0,
   "metadata": {
    "application/vnd.databricks.v1+cell": {
     "cellMetadata": {
      "byteLimit": 2048000,
      "implicitDf": true,
      "rowLimit": 10000
     },
     "inputWidgets": {},
     "nuid": "2c4678a4-cdda-4996-bb08-6ba6be2dc3a0",
     "showTitle": false,
     "tableResultSettingsMap": {},
     "title": ""
    }
   },
   "outputs": [],
   "source": [
    "%sql\n",
    "MERGE INTO healthcarerevenuecyclemanagement_databricks.silver.icd_codes AS target\n",
    "USING icd_codes AS source \n",
    "ON target.icd_code = source.icd_code\n",
    "WHEN MATCHED THEN \n",
    "    UPDATE \n",
    "    SET target.is_current_flag = False,\n",
    "        target.updated_date = current_date()\n",
    "WHEN NOT MATCHED\n",
    "    THEN INSERT (\n",
    "        icd_code,\n",
    "        icd_code_type,\n",
    "        code_description,\n",
    "        inserted_date,\n",
    "        updated_date,\n",
    "        is_current_flag\n",
    "    ) VALUES (\n",
    "        source.icd_code,\n",
    "        source.icd_code_type,\n",
    "        source.code_description,\n",
    "        source.inserted_date,\n",
    "        source.updated_date,\n",
    "        source.is_current_flag\n",
    "    )"
   ]
  }
 ],
 "metadata": {
  "application/vnd.databricks.v1+notebook": {
   "computePreferences": null,
   "dashboards": [],
   "environmentMetadata": {
    "base_environment": "",
    "environment_version": "2"
   },
   "inputWidgetPreferences": null,
   "language": "python",
   "notebookMetadata": {
    "mostRecentlyExecutedCommandWithImplicitDF": {
     "commandId": 5141533273973971,
     "dataframes": [
      "_sqldf"
     ]
    },
    "pythonIndentUnit": 4
   },
   "notebookName": "ICD Codes",
   "widgets": {}
  },
  "language_info": {
   "name": "python"
  }
 },
 "nbformat": 4,
 "nbformat_minor": 0
}
